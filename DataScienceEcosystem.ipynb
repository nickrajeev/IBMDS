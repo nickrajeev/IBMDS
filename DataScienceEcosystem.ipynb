{
 "cells": [
  {
   "cell_type": "markdown",
   "id": "65e91319-145e-42a4-b4c3-78f68f8a9edd",
   "metadata": {},
   "source": [
    "# Data Science Tools and Ecosystem"
   ]
  },
  {
   "cell_type": "markdown",
   "id": "e1c234d7-f0ee-4319-90c6-515cb4ff8294",
   "metadata": {},
   "source": [
    "In this notebook, Data Science Tools and Ecosystem are summarized."
   ]
  },
  {
   "cell_type": "markdown",
   "id": "f573fba9-3d07-49e8-a518-580733214f02",
   "metadata": {},
   "source": [
    "**Objectives:**  \n",
    "- List popular languages for Data Science  \n",
    "- Identify commonly used libraries in Data Science  \n",
    "- Understand open-source tools for Data Science  \n",
    "- Demonstrate basic arithmetic expressions in Python  \n",
    "- Convert units using Python code  \n"
   ]
  },
  {
   "cell_type": "markdown",
   "id": "6293a382-c628-4f99-8e8b-58c941b68135",
   "metadata": {},
   "source": [
    "Some of the popular languages that Data Scientists use are:\n",
    "1. Python\n",
    "2. R \n",
    "3. SQL \n",
    "4. Scala"
   ]
  },
  {
   "cell_type": "markdown",
   "id": "d9316534-5e3e-44b8-8c71-9086606938b2",
   "metadata": {},
   "source": [
    "Some of the commonly used libraries used by Data Scientists include:\n",
    "1. NumPy\n",
    "2. Matplotlib\n",
    "3. ggplot2\n",
    "4. TensorFlow"
   ]
  },
  {
   "cell_type": "markdown",
   "id": "e42d7bbb-603d-4c22-9d25-df28bb8e328b",
   "metadata": {},
   "source": [
    "|Data Science Tools | \n",
    "| ------ | \n",
    "| Apple | \n",
    "|Orange |\n",
    "| Mango | \n",
    "| Grapes | "
   ]
  },
  {
   "cell_type": "code",
   "execution_count": 3,
   "id": "a845b3f2-45d4-4ece-bb91-b9e4de3d0da0",
   "metadata": {
    "scrolled": true
   },
   "outputs": [
    {
     "data": {
      "text/plain": [
       "17"
      ]
     },
     "execution_count": 3,
     "metadata": {},
     "output_type": "execute_result"
    }
   ],
   "source": [
    "### Below are a few examples of evaluating arithmetic expressions in Python\n",
    "#### This is a simple arithmetic expression to multiply then add integers\n",
    "(3 * 4) + 5\n"
   ]
  },
  {
   "cell_type": "code",
   "execution_count": 4,
   "id": "36b65add-ada5-4ce3-b942-f337b4f6f2f7",
   "metadata": {},
   "outputs": [
    {
     "data": {
      "text/plain": [
       "3.3333333333333335"
      ]
     },
     "execution_count": 4,
     "metadata": {},
     "output_type": "execute_result"
    }
   ],
   "source": [
    "# This will convert 200 minutes to hours by dividing by 60\n",
    "200 / 60\n"
   ]
  }
 ],
 "metadata": {
  "kernelspec": {
   "display_name": "Python 3 (ipykernel)",
   "language": "python",
   "name": "python3"
  },
  "language_info": {
   "codemirror_mode": {
    "name": "ipython",
    "version": 3
   },
   "file_extension": ".py",
   "mimetype": "text/x-python",
   "name": "python",
   "nbconvert_exporter": "python",
   "pygments_lexer": "ipython3",
   "version": "3.11.9"
  }
 },
 "nbformat": 4,
 "nbformat_minor": 5
}
